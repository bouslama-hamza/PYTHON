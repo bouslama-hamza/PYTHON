{
  "nbformat": 4,
  "nbformat_minor": 0,
  "metadata": {
    "colab": {
      "name": "OPP Python Basic.ipynb",
      "provenance": [],
      "collapsed_sections": [],
      "toc_visible": true,
      "authorship_tag": "ABX9TyNshwfaEr/9qJkAVU76Oqi5",
      "include_colab_link": true
    },
    "kernelspec": {
      "display_name": "Python 3",
      "name": "python3"
    },
    "language_info": {
      "name": "python"
    }
  },
  "cells": [
    {
      "cell_type": "markdown",
      "metadata": {
        "id": "view-in-github",
        "colab_type": "text"
      },
      "source": [
        "<a href=\"https://colab.research.google.com/github/bouslama-hamza/Python/blob/main/OOP_Python_Basic.ipynb\" target=\"_parent\"><img src=\"https://colab.research.google.com/assets/colab-badge.svg\" alt=\"Open In Colab\"/></a>"
      ]
    },
    {
      "cell_type": "markdown",
      "metadata": {
        "id": "rTynTt1rqun-"
      },
      "source": [
        "# OOP In Pyhton"
      ]
    },
    {
      "cell_type": "markdown",
      "metadata": {
        "id": "H7jHAzspFUa3"
      },
      "source": [
        "Simple Class\n"
      ]
    },
    {
      "cell_type": "code",
      "metadata": {
        "id": "HOe5AixnqtAY"
      },
      "source": [
        "#Create a simple class\n",
        "class Employer:\n",
        "  def __init__(self,name,l_name,age,pay):\n",
        "    self.name = name\n",
        "    self.l_name = l_name\n",
        "    self.age = age\n",
        "    self.pay = pay\n",
        "    self.email = name + '.' +l_name+ \"@gmail.com\"\n",
        "\n",
        "  def fullname(self):\n",
        "    return self.name +\" \"+ self.l_name\n",
        "\n",
        "#descripe class\n",
        "emp1 = Employer('hamza','Bouslama' , 17 , 5000)\n",
        "#show values\n",
        "print(emp1.email)\n",
        "print(emp1.fullname())"
      ],
      "execution_count": null,
      "outputs": []
    },
    {
      "cell_type": "markdown",
      "metadata": {
        "id": "HFB4GSIXFYe0"
      },
      "source": [
        "Class variable and instance variables"
      ]
    },
    {
      "cell_type": "code",
      "metadata": {
        "id": "5iVrI02br2ZT"
      },
      "source": [
        "#class variables\n",
        "class Employer:\n",
        "  num_of_employer = 0\n",
        "  raise_pay = 1.6\n",
        "  def __init__(self,name,l_name,age,pay):\n",
        "    self.name = name\n",
        "    self.l_name = l_name\n",
        "    self.age = age\n",
        "    self.pay = pay\n",
        "    self.email = name + '.' +l_name+ \"@gmail.com\"\n",
        "    Employer.num_of_employer += 1\n",
        "\n",
        "  def raise_unit(self):\n",
        "    return self.raise_pay * self.pay\n",
        "    \n",
        "emp1 = Employer('hamza','Bouslama' , 17 , 5000)\n",
        "emp2 = Employer('zineb','Bouslama' , 21 , 6000)\n",
        "#class variables\n",
        "print(Employer.num_of_employer)\n",
        "#instance variables\n",
        "print(emp1.raise_unit())\n",
        "print(emp2.raise_unit())\n",
        "emp2.raise_pay = 1.2\n",
        "print(emp2.raise_unit())"
      ],
      "execution_count": null,
      "outputs": []
    },
    {
      "cell_type": "markdown",
      "metadata": {
        "id": "UOLLXJDtFfMB"
      },
      "source": [
        "classmethods and staticmethods"
      ]
    },
    {
      "cell_type": "code",
      "metadata": {
        "id": "cmBdy5zfrdnO"
      },
      "source": [
        "# classmethods and staticmethods\n",
        "class Employer:\n",
        "  num_of_employer = 0\n",
        "  raise_pay = 1.6\n",
        "\n",
        "  def __init__(self,name,l_name,age,pay):\n",
        "    self.name = name\n",
        "    self.l_name = l_name\n",
        "    self.age = age\n",
        "    self.pay = pay\n",
        "    self.email = name + '.' +l_name+ \"@gmail.com\"\n",
        "    Employer.num_of_employer += 1\n",
        "\n",
        "  def raise_unit(self):\n",
        "    return self.raise_pay * self.pay\n",
        "\n",
        "  #Declaring classmethod\n",
        "  @classmethod\n",
        "  def raise_up_amount(cls,amount):\n",
        "    cls.raise_pay = amount\n",
        "\n",
        "Employer.raise_up_amount(1.7)\n",
        "print(Employer.raise_pay)"
      ],
      "execution_count": null,
      "outputs": []
    },
    {
      "cell_type": "markdown",
      "metadata": {
        "id": "HLjXe1HEFifK"
      },
      "source": [
        "alternative constructors"
      ]
    },
    {
      "cell_type": "code",
      "metadata": {
        "id": "knjEIA7dvczi"
      },
      "source": [
        "#alternative constructors\n",
        "class Employer:\n",
        "  num_of_employer = 0\n",
        "  raise_pay = 1.6\n",
        "\n",
        "  def __init__(self,name,l_name,age,pay):\n",
        "    self.name = name\n",
        "    self.l_name = l_name\n",
        "    self.age = age\n",
        "    self.pay = pay\n",
        "    self.email = name + '.' +l_name+ \"@gmail.com\"\n",
        "    Employer.num_of_employer += 1\n",
        "\n",
        "  def raise_unit(self):\n",
        "    return self.raise_pay * self.pay\n",
        "\n",
        "  #Declaring classmethod\n",
        "  @classmethod\n",
        "  def raise_up_amount(cls,amount):\n",
        "    cls.raise_pay = amount\n",
        "\n",
        "  @classmethod\n",
        "  def new_employer(cls,emp_str):\n",
        "    name, l_name,age,pay = emp_str.split('-')\n",
        "    return cls(name,l_name,age,pay)\n",
        "\n",
        "new_emp = 'hamza-bouslama-18-1800'\n",
        "new_emp_1 = Employer.new_employer(new_emp)\n",
        "\n",
        "print(new_emp_1.name)"
      ],
      "execution_count": null,
      "outputs": []
    },
    {
      "cell_type": "markdown",
      "metadata": {
        "id": "qpEAMucjFmf2"
      },
      "source": [
        "Static method"
      ]
    },
    {
      "cell_type": "code",
      "metadata": {
        "id": "p7QWSMDWB6G_"
      },
      "source": [
        "#static method\n",
        "class Employer:\n",
        "  num_of_employer = 0\n",
        "  raise_pay = 1.6\n",
        "\n",
        "  def __init__(self,name,l_name,age,pay):\n",
        "    self.name = name\n",
        "    self.l_name = l_name\n",
        "    self.age = age\n",
        "    self.pay = pay\n",
        "    self.email = name + '.' +l_name+ \"@gmail.com\"\n",
        "    Employer.num_of_employer += 1\n",
        "\n",
        "  def raise_unit(self):\n",
        "    return self.raise_pay * self.pay\n",
        "\n",
        "  #Declaring classmethod\n",
        "  @classmethod\n",
        "  def raise_up_amount(cls,amount):\n",
        "    cls.raise_pay = amount\n",
        "\n",
        "  @classmethod\n",
        "  def new_employer(cls,emp_str):\n",
        "    name, l_name,age,pay = emp_str.split('-')\n",
        "    return cls(name,l_name,age,pay)\n",
        "    \n",
        "  #Declaring staticmethod\n",
        "  @staticmethod\n",
        "  def is_rish(pay):\n",
        "    return pay >= 3000\n",
        "\n",
        "print(Employer.is_rish(int(new_emp_1.pay)))"
      ],
      "execution_count": null,
      "outputs": []
    },
    {
      "cell_type": "markdown",
      "metadata": {
        "id": "lWrv1ao2Fq46"
      },
      "source": [
        " Inheritance - Creating Subclasses"
      ]
    },
    {
      "cell_type": "code",
      "metadata": {
        "id": "rQm_7GzTEk1V"
      },
      "source": [
        "#subclass \n",
        "class Developer(Employer):\n",
        "  def __init__(self,name,l_name,age,pay,l_exp):\n",
        "    #the parent\n",
        "    super().__init__(name,l_name,age,pay)\n",
        "    self.l_exp = l_exp\n",
        "    \n",
        "div_1 = Developer('hamza','bouslama',18,1800,'python')\n",
        "div_2 = Developer('Corey','Chufr',15,19800,'Java')\n",
        "print(div_1.l_exp)"
      ],
      "execution_count": null,
      "outputs": []
    },
    {
      "cell_type": "code",
      "metadata": {
        "id": "8nrURmKpPbI-"
      },
      "source": [
        "class Manager(Employer):\n",
        "  def __init__(self,name,l_name,age,pay,Div = None):\n",
        "    #the parent\n",
        "    super().__init__(name,l_name,age,pay)\n",
        "    if Div is None:\n",
        "      self.Div = []\n",
        "    else:\n",
        "      self.Div = Div\n",
        "  # add Diveloper\n",
        "  def add_div(self,div):\n",
        "    if div not in self.Div:\n",
        "      self.Div.append(div)\n",
        "  #remover Diveloper\n",
        "  def rm_div(self,div):\n",
        "    if div in self.Div:\n",
        "      self.Div.remove(div)\n",
        "  #show Diveloper\n",
        "  def print_div(self):\n",
        "    for dive in self.Div:\n",
        "      print(\"--->\",dive.name ,\"\", dive.l_name,\"\\n\")\n",
        "\n",
        "man_1 = Manager('hamza','bouslama',18,1800,[div_1])\n",
        "man_1.add_div(div_2)\n",
        "man_1.rm_div(div_1)\n",
        "man_1.print_div()"
      ],
      "execution_count": null,
      "outputs": []
    },
    {
      "cell_type": "code",
      "metadata": {
        "id": "C--GG2MDT5gD"
      },
      "source": [
        "#isinstance and issubclass\n",
        "print(isinstance(man_1,Manager))\n",
        "print(issubclass(Manager,Employer))"
      ],
      "execution_count": null,
      "outputs": []
    },
    {
      "cell_type": "markdown",
      "metadata": {
        "id": "K8OaQVDaUzQ1"
      },
      "source": [
        "Special (Magic/Dunder) Methods"
      ]
    },
    {
      "cell_type": "code",
      "metadata": {
        "id": "1cW6g5lIU1NC"
      },
      "source": [
        "class Employer:\n",
        "\n",
        "  def __init__(self,name,l_name,age,pay):\n",
        "    self.name = name\n",
        "    self.l_name = l_name\n",
        "    self.age = age\n",
        "    self.pay = pay\n",
        "    self.email = name + '.' +l_name+ \"@gmail.com\"\n",
        "\n",
        "  #Dunder\n",
        "  def __repr__(self):\n",
        "    return \"Employer('{}','{}')\".format(self.name,self.l_name)\n",
        "  def __str__(self):\n",
        "    return \"Employer('{}','{}')\".format(self.name,self.email)\n",
        "  def __add__(self,other):\n",
        "    return self.pay + other.pay\n",
        "\n",
        "emp1 = Employer('hamza','Bouslama' , 17 , 5000)\n",
        "emp2 = Employer('walid','Aslaoui' , 19 , 8000)\n",
        "\n",
        "print(emp1 + emp2)\n",
        "print(emp1.__str__())\n",
        "print(emp1.__repr__())"
      ],
      "execution_count": null,
      "outputs": []
    },
    {
      "cell_type": "markdown",
      "metadata": {
        "id": "paWrs8pabN4P"
      },
      "source": [
        " Property Decorators - Getters, Setters, and Deleters"
      ]
    },
    {
      "cell_type": "code",
      "metadata": {
        "id": "qJsv3JDcbO9U"
      },
      "source": [
        "class Tester:\n",
        "  def __init__(self,name,l_name,pay):\n",
        "    self.name = name\n",
        "    self.l_name = l_name\n",
        "    self.pay = pay\n",
        "#Getters\n",
        "  @property\n",
        "  def email(self):\n",
        "    return \"{}.{}@gmail.com\".format(self.name,self.l_name)\n",
        "  def fullname(self):\n",
        "    return \"{} {}\".format(self.name,self.l_name)\n",
        "#Setters\n",
        "  @fullname.setter\n",
        "  def fullname(self,name,l_name):\n",
        "    self.name = name\n",
        "    self.l_name = l_name\n",
        "#Deleters\n",
        "  @fullname.deleter\n",
        "  def fullname(self):\n",
        "    self.name = None\n",
        "    self.l_name = None\n",
        "  \n",
        "emp1 = Tester('hamza','Bouslama' , 5000)\n",
        "print(emp1.email)"
      ],
      "execution_count": null,
      "outputs": []
    }
  ]
}