{
 "metadata": {
  "language_info": {
   "codemirror_mode": {
    "name": "ipython",
    "version": 3
   },
   "file_extension": ".py",
   "mimetype": "text/x-python",
   "name": "python",
   "nbconvert_exporter": "python",
   "pygments_lexer": "ipython3",
   "version": "3.8.5"
  },
  "orig_nbformat": 2,
  "kernelspec": {
   "name": "python385jvsc74a57bd0916dbcbb3f70747c44a77c7bcd40155683ae19c65e1c03b4aa3499c5328201f1",
   "display_name": "Python 3.8.5 64-bit"
  },
  "metadata": {
   "interpreter": {
    "hash": "916dbcbb3f70747c44a77c7bcd40155683ae19c65e1c03b4aa3499c5328201f1"
   }
  }
 },
 "nbformat": 4,
 "nbformat_minor": 2,
 "cells": [
  {
   "cell_type": "code",
   "execution_count": null,
   "metadata": {},
   "outputs": [],
   "source": [
    "[(x,100 - x) for x in range(101)]\n",
    "\n",
    "[(x , y) for x in range(11) for y in range(11) if x < y]"
   ]
  },
  {
   "cell_type": "code",
   "execution_count": null,
   "metadata": {},
   "outputs": [],
   "source": [
    "# exercice 2\n",
    "\n",
    "L1 = [x for x in range(0,20) if x%2 == 0]\n",
    "\n",
    "print(L1)\n",
    "\n",
    "L2 = L1[3 : 6]\n",
    "\n",
    "print(L2)\n",
    "\n",
    "L3 = L1[1 : 9]\n",
    "\n",
    "print(L3)\n",
    "\n",
    "L4 = [x for x in range(10,0,-1) if x % 2 != 0]\n",
    "\n",
    "print(L4)\n",
    "\n",
    "L5 = [x**0.5 for x in range(10,0,-1) if x % 2 != 0]\n",
    "\n",
    "print(L5)"
   ]
  },
  {
   "cell_type": "code",
   "execution_count": null,
   "metadata": {},
   "outputs": [],
   "source": [
    "#exercice 3\n",
    "\n",
    "def variance(L) : \n",
    "\n",
    "    x = 0 \n",
    "    \n",
    "    Fin = 0\n",
    "\n",
    "    for i in range(len(L)):\n",
    "\n",
    "        x = x + L[i]\n",
    "    \n",
    "    Moy = x / len(L)\n",
    "\n",
    "    for i in range(len(L)):\n",
    "\n",
    "         Fin = Fin + abs(L[i] - Moy)\n",
    "\n",
    "    End = Fin / len(L)\n",
    "\n",
    "    print(End)\n",
    "\n",
    "L1 = [2,4,1,1,5]\n",
    "\n",
    "variance(L1)"
   ]
  },
  {
   "cell_type": "code",
   "execution_count": null,
   "metadata": {},
   "outputs": [],
   "source": [
    "#exercice 4\n",
    "\n",
    "def fusion(L,M):\n",
    "\n",
    "    R = []\n",
    "\n",
    "    R = L + M\n",
    "\n",
    "    return R\n",
    "\n",
    "L = [1, 2, 3, 4]\n",
    "\n",
    "M = [5, 6, 7, 8]\n",
    "\n",
    "fusion(L,M)"
   ]
  },
  {
   "cell_type": "code",
   "execution_count": null,
   "metadata": {},
   "outputs": [],
   "source": [
    "#exerice 5\n",
    "\n",
    "def decalage(L) :\n",
    "\n",
    "    R = L[::-1]\n",
    "\n",
    "    return R\n",
    "\n",
    "L = [1, 2, 3, 4]\n",
    "\n",
    "decalage(L)"
   ]
  },
  {
   "cell_type": "code",
   "execution_count": 16,
   "metadata": {},
   "outputs": [
    {
     "output_type": "stream",
     "name": "stdout",
     "text": [
      "[1, 1, 2, 3, 5, 8]\n"
     ]
    }
   ],
   "source": [
    "#exercice 6\n",
    "\n",
    "def fibo(n):\n",
    "\n",
    "    L = [1,1]\n",
    "\n",
    "    if n==0:\n",
    "\n",
    "        return [1]\n",
    "    \n",
    "    elif n == 1 :\n",
    "\n",
    "        return L\n",
    "\n",
    "    for i in range(2,n +1):\n",
    "        \n",
    "        L.append(L[i-2]+ L[i-1])\n",
    "\n",
    "    return L\n",
    "\n",
    "print(fibo(5))"
   ]
  },
  {
   "cell_type": "code",
   "execution_count": null,
   "metadata": {},
   "outputs": [],
   "source": [
    "#exercice 7\n",
    "\n",
    "def rech_dico(L,x) :\n",
    "\n",
    "    res = False\n",
    "\n",
    "    i = len(L)//2\n",
    "\n",
    "    pr = x \n",
    "\n",
    "    while pr > 0 :\n",
    "\n",
    "        if x == L[i] :\n",
    "        \n",
    "            res =  True\n",
    "\n",
    "            break\n",
    "        \n",
    "        else : \n",
    "\n",
    "            if x < L[i] :\n",
    "                \n",
    "                pr = pr - 1\n",
    "\n",
    "                i = i - pr \n",
    "\n",
    "            else :\n",
    "\n",
    "                pr = pr - 1\n",
    "                \n",
    "                i = i + pr\n",
    "\n",
    "    return res\n",
    "\n",
    "L = [1,3,4,6,7,8,10,13,14]\n",
    "\n",
    "x = 4\n",
    "\n",
    "rech_dico(L,x)"
   ]
  },
  {
   "cell_type": "code",
   "execution_count": null,
   "metadata": {},
   "outputs": [],
   "source": [
    "#exerice 8 part 1\n",
    "\n",
    "def Cesar_decode(u,k):\n",
    "\n",
    "    R = []\n",
    "\n",
    "    for i in range(len(u)):\n",
    "\n",
    "        number = ord(u[i])\n",
    "\n",
    "        number = number + k\n",
    "\n",
    "        char = chr(number) \n",
    "\n",
    "        R = R + list(char)\n",
    "\n",
    "    return R\n",
    "\n",
    "ch =  ['A', 'M', 'I', 'N']\n",
    "\n",
    "Cesar_decode(ch,5)"
   ]
  },
  {
   "cell_type": "code",
   "execution_count": null,
   "metadata": {},
   "outputs": [],
   "source": [
    "#exerice 8 part 2\n",
    "\n",
    "def Cesar_decode(u,k):\n",
    "\n",
    "    R = []\n",
    "\n",
    "    for i in range(len(u)):\n",
    "\n",
    "        number = ord(u[i])\n",
    "\n",
    "        number = number - k\n",
    "\n",
    "        char = chr(number) \n",
    "\n",
    "        R = R + list(char)\n",
    "\n",
    "    strl =\"\".join(R)\n",
    "\n",
    "    return strl\n",
    "\n",
    "ch =  ['F', 'R', 'N', 'S']\n",
    "\n",
    "Cesar_decode(ch,5)\n"
   ]
  },
  {
   "cell_type": "code",
   "execution_count": 7,
   "metadata": {},
   "outputs": [
    {
     "output_type": "execute_result",
     "data": {
      "text/plain": [
       "10"
      ]
     },
     "metadata": {},
     "execution_count": 7
    }
   ],
   "source": [
    "#exercice 9 part 1\n",
    "\n",
    "def somme(M1,M2): \n",
    "\n",
    "    return sum(i for i in M1 and M2)\n",
    "\n",
    "M1 = [1, 2, 3, 4]\n",
    "\n",
    "M2 = [1, 2, 3, 4]\n",
    "\n",
    "somme(M1,M2)"
   ]
  },
  {
   "cell_type": "code",
   "execution_count": 8,
   "metadata": {},
   "outputs": [
    {
     "output_type": "stream",
     "name": "stdout",
     "text": [
      "23\n"
     ]
    }
   ],
   "source": [
    "def produit_scalaire(L1 , L2):\n",
    "\n",
    "    L = 0\n",
    "\n",
    "    for i in range(len(L1)):\n",
    "\n",
    "        L += L1[i] * L2[i]\n",
    "\n",
    "    return L\n",
    "\n",
    "L1 = [1,4,6]\n",
    "\n",
    "L3 = [-3,5,1]\n",
    " \n",
    "print(produit_scalaire(L1 , L3))\n"
   ]
  },
  {
   "cell_type": "code",
   "execution_count": null,
   "metadata": {},
   "outputs": [],
   "source": [
    "def combien(v,a,b):\n",
    "\n",
    "   return sum([1 for i in range(a,b+1) if i not in v])\n",
    "\n",
    "L = [1,8,9,10,12,17]\n",
    "\n",
    "a = 0\n",
    "\n",
    "b = 20\n",
    "\n",
    "combien(L,a,b)"
   ]
  },
  {
   "cell_type": "code",
   "execution_count": null,
   "metadata": {},
   "outputs": [],
   "source": [
    "from random import shuffle\n",
    "\n",
    "def est_trie(t):\n",
    "\n",
    "    test = [t[i]<=t[i+1] for i in range(len(t)-1)]\n",
    "\n",
    "    return False not in test\n",
    "\n",
    "def stupid_sort(t):\n",
    "\n",
    "    while(not est_trie(t)):\n",
    "\n",
    "        print(shuffle(t))\n",
    "    \n",
    "    return t\n",
    "\n",
    "\n",
    "stupid_sort(L)"
   ]
  },
  {
   "cell_type": "code",
   "execution_count": null,
   "metadata": {},
   "outputs": [],
   "source": [
    "def trie(L):\n",
    "\n",
    "    M = max(L)\n",
    "\n",
    "    L1 = [0] * (M+1)\n",
    "\n",
    "    L2 = []\n",
    "\n",
    "    for i in range(len(L)):\n",
    "\n",
    "        L1[i] = L.count(i)\n",
    "    \n",
    "    L2 = [i * L1[i] for i in range(M+1)]\n",
    "\n",
    "    return L2\n",
    "\n",
    "L = [2,1,1,2,3,5]\n",
    "\n",
    "trie(L)"
   ]
  },
  {
   "cell_type": "code",
   "execution_count": null,
   "metadata": {},
   "outputs": [],
   "source": [
    "from random import randint\n",
    "\n",
    "def generer_poly(n):\n",
    "\n",
    "    L = [0]*(n+1)\n",
    "\n",
    "    for i in range(n+1):\n",
    "\n",
    "        L[i]= randint(-5,5)\n",
    "    \n",
    "    return L\n",
    "\n",
    "def liste_poly(L):\n",
    "\n",
    "    return list(map(generer_poly,L))\n",
    "\n",
    "n = 5\n",
    "\n",
    "liste_poly(generer_poly(n))"
   ]
  },
  {
   "cell_type": "code",
   "execution_count": null,
   "metadata": {},
   "outputs": [],
   "source": [
    "from random import randint\n",
    "\n",
    "import matplotlib.pyplot as plt\n",
    "\n",
    "def img(n):\n",
    "\n",
    "    L = [[0]*n for i in range(n)]\n",
    "\n",
    "    for i in range(n):\n",
    "\n",
    "        for j in range(n):\n",
    "\n",
    "            L[i][j]= randint(0,1) \n",
    "\n",
    "    return L\n",
    "\n",
    "plt.imgshow(img(50),cmap = 'gray')\n",
    "\n",
    "plt.show()"
   ]
  },
  {
   "cell_type": "code",
   "execution_count": 30,
   "metadata": {},
   "outputs": [
    {
     "output_type": "stream",
     "name": "stdout",
     "text": [
      "1.52\n"
     ]
    }
   ],
   "source": [
    "def variance(l):\n",
    "\n",
    "    moy=0\n",
    "\n",
    "    var =0\n",
    "\n",
    "    for i in range(len(l)):\n",
    "\n",
    "        moy += l[i]\n",
    "\n",
    "    moy=moy/len(l)\n",
    "\n",
    "    for i in range (len(l)):\n",
    "\n",
    "        var+= abs(l[i]-moy)\n",
    "\n",
    "    var=var/len(l)  \n",
    "\n",
    "    return var\n",
    "\n",
    "l=[2,4,1,1,5]\n",
    "\n",
    "print(variance(l))"
   ]
  },
  {
   "cell_type": "code",
   "execution_count": null,
   "metadata": {},
   "outputs": [],
   "source": [
    "import matplotlib.pyplot as plt\n",
    "\n",
    "from time import time_ns\n",
    "\n",
    "temps = []\n",
    "\n",
    "for i in range(1,40):\n",
    "\n",
    "    start = time()\n",
    "\n",
    "    fibo_rec(i)\n",
    "\n",
    "    fin = time()\n",
    "\n",
    "    temps.append(fin-start)\n",
    "\n",
    "    plt.plot(range(1,40),temps,'b')\n",
    "    \n",
    "    plt.show()"
   ]
  }
 ]
}