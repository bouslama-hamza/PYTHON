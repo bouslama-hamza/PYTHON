{
 "metadata": {
  "language_info": {
   "codemirror_mode": {
    "name": "ipython",
    "version": 3
   },
   "file_extension": ".py",
   "mimetype": "text/x-python",
   "name": "python",
   "nbconvert_exporter": "python",
   "pygments_lexer": "ipython3",
   "version": "3.8.5"
  },
  "orig_nbformat": 2,
  "kernelspec": {
   "name": "python385jvsc74a57bd0ed461e02ef1f7bb46b06c79ab007f3f5403ecb8ebb5164fd602d5df5f10ea717",
   "display_name": "Python 3.8.5 64-bit ('base': conda)"
  }
 },
 "nbformat": 4,
 "nbformat_minor": 2,
 "cells": [
  {
   "cell_type": "code",
   "execution_count": null,
   "metadata": {},
   "outputs": [],
   "source": [
    "#Excercice 1\n",
    "\n",
    "def distanceH(S1, S2):\n",
    "\n",
    "    return sum([1 for i in range(len(S1)) if (S1[i] not in S2) or (S2[i] not in S1)])\n",
    "\n",
    "distanceH(\"tghy\",\"xgyy\")"
   ]
  },
  {
   "cell_type": "code",
   "execution_count": null,
   "metadata": {},
   "outputs": [],
   "source": [
    "def distanceH_langage(L):\n",
    "\n",
    "    return min(distanceH(L[i],L[j])for i in range(len(L))for j in range(i+1,len(L))if i != j)\n",
    "\n",
    "L =[\"aabb\",\"xayy\",\"tghy\",\"xgyy\"]\n",
    "\n",
    "distanceH_langage(L)\n",
    "            "
   ]
  },
  {
   "cell_type": "code",
   "execution_count": null,
   "metadata": {},
   "outputs": [],
   "source": [
    "def binaire(N):\n",
    "\n",
    "    sor = 0\n",
    "\n",
    "    i = 0\n",
    "\n",
    "    while N != 0 :\n",
    "\n",
    "        res = N % 2\n",
    "\n",
    "        sor += res * (10 **i)\n",
    "\n",
    "        i = i + 1\n",
    "\n",
    "        N = N//2 \n",
    "\n",
    "    return sor\n",
    "\n",
    "binaire(105)"
   ]
  },
  {
   "cell_type": "code",
   "execution_count": null,
   "metadata": {},
   "outputs": [],
   "source": [
    "def add(R):\n",
    "\n",
    "    R = list(str(R))\n",
    "\n",
    "    while len(R) < 8:\n",
    "\n",
    "        R = ['0'] + R \n",
    "\n",
    "    R = ''.join(R)\n",
    "\n",
    "    return R\n",
    "\n",
    "D = add(100)\n",
    "\n",
    "print(D)"
   ]
  },
  {
   "cell_type": "code",
   "execution_count": null,
   "metadata": {},
   "outputs": [],
   "source": [
    "def distanceNombre(A, B):\n",
    "\n",
    "    A1 = list(add((binaire(A))))\n",
    "\n",
    "    B1 = list(add((binaire(B))))\n",
    "\n",
    "    return sum(1 for i in range(len(A1)) if (A1[i] not in B1[i]))\n",
    "\n",
    "distanceNombre(7 , 4)"
   ]
  },
  {
   "cell_type": "code",
   "execution_count": null,
   "metadata": {},
   "outputs": [],
   "source": [
    "#EXERCICE 2\n",
    "\n",
    "def estADN(ch):\n",
    "\n",
    "    for i in range(len(ch)) :\n",
    "\n",
    "        if  ch[i] not in 'ACGT':\n",
    "\n",
    "            return False\n",
    "\n",
    "    return True\n",
    "\n",
    "estADN(\"TOAC\")"
   ]
  },
  {
   "cell_type": "code",
   "execution_count": null,
   "metadata": {},
   "outputs": [],
   "source": [
    "def masseMolaire(ch):\n",
    "\n",
    "    Som = 0\n",
    "    \n",
    "    d={'A':135 , 'T': 126 , 'G':151 , 'C':111}\n",
    "    \n",
    "    if estADN(ch) == False: \n",
    "\n",
    "        return False\n",
    "\n",
    "        exit(1)\n",
    "\n",
    "    for i in ch:\n",
    "\n",
    "        Som+= d[i]\n",
    "\n",
    "    return Som\n",
    "\n",
    "masseMolaire(\"AGATC\")"
   ]
  },
  {
   "cell_type": "code",
   "execution_count": null,
   "metadata": {},
   "outputs": [],
   "source": [
    "def brinComp(b):\n",
    "\n",
    "    las = []\n",
    "\n",
    "    d={'A':'T', 'T': 'A' , 'G':'C' , 'C':'G'}\n",
    "\n",
    "    for i in b:\n",
    "\n",
    "       las = las + [d[i]]\n",
    "\n",
    "    return ''.join(las)\n",
    "\n",
    "brinComp(\"AAGT\")"
   ]
  },
  {
   "cell_type": "code",
   "execution_count": null,
   "metadata": {},
   "outputs": [],
   "source": [
    "def sous_sequence(A, B):\n",
    "\n",
    "    return A in B \n",
    "\n",
    "sous_sequence(\"ATC\", \"GGTATCG\")\n",
    "\n",
    "#sous_sequence(\"GC\", \"AAT\")"
   ]
  },
  {
   "cell_type": "code",
   "execution_count": null,
   "metadata": {
    "tags": []
   },
   "outputs": [],
   "source": [
    "def TrouverGene(CH):\n",
    "\n",
    "    d = ['TAA' , 'TAG' , 'TGA']\n",
    "\n",
    "    x = 0\n",
    "\n",
    "    if 'ATG' not in CH:\n",
    "\n",
    "        print(\"pas de genes\")\n",
    "\n",
    "    else:\n",
    "\n",
    "        while 'ATG' in CH :\n",
    "\n",
    "            for i in range(len(CH)):\n",
    "            \n",
    "                if CH[i:i+3] == 'ATG':\n",
    "\n",
    "                    M = CH[i+3:]\n",
    "\n",
    "                    break\n",
    "\n",
    "            for k in range(len(M)):\n",
    "\n",
    "                if M[k:k+3] in d:\n",
    "\n",
    "                    print(M[0:k])\n",
    "\n",
    "                    break\n",
    "\n",
    "            CH = M[k:]\n",
    "\n",
    "a = str(input(\"Entrer un génome : \"))\n",
    "\n",
    "TrouverGene(a)"
   ]
  },
  {
   "cell_type": "code",
   "execution_count": null,
   "metadata": {},
   "outputs": [],
   "source": [
    "#EXERCICE 3 :\n",
    "\n",
    "def freqChaine(ch):\n",
    "\n",
    "    d = {}\n",
    "\n",
    "    for i in range(len(ch)):\n",
    "\n",
    "        d[ch[i]] = ch.count(ch[i])\n",
    "\n",
    "    return d\n",
    "\n",
    "freqChaine('abbabba!')"
   ]
  },
  {
   "cell_type": "code",
   "execution_count": null,
   "metadata": {},
   "outputs": [],
   "source": [
    "def maxDic(M) :\n",
    "\n",
    "    return max(M.keys())\n",
    "\n",
    "maxDic({'a': 3, 'e' : 50 , 'c' : 0, 'b' : 10})"
   ]
  },
  {
   "cell_type": "code",
   "execution_count": null,
   "metadata": {},
   "outputs": [],
   "source": [
    "def triCles(d):\n",
    "\n",
    "    R = list(d.items())\n",
    "\n",
    "    R = sorted(R,key = lambda x:x[1],reverse=True)\n",
    "\n",
    "    return [elm[0] for elm in R]\n",
    "\n",
    "triCles({'a': 3, 'b' : 5 , 'c' : 0, 'd' : 10})"
   ]
  },
  {
   "cell_type": "code",
   "execution_count": null,
   "metadata": {},
   "outputs": [],
   "source": [
    "#EXERCICE 4\n",
    "\n",
    "def question(q):\n",
    "\n",
    "    R = 0\n",
    "\n",
    "    for j in range(len(q)):\n",
    "\n",
    "        print(q[j]['question'],\"\\n\")\n",
    "\n",
    "        for i in range(len(qs)+1):\n",
    "\n",
    "            print(q[j]['incorrecte'][i],\"\\n\")\n",
    "\n",
    "        print(q[j]['correcte'])\n",
    "\n",
    "        a = str(input(\"\"))\n",
    "\n",
    "        if a in q[j]['correcte']:\n",
    "\n",
    "            print(\"\\nbravo (+1)\\n\")\n",
    "\n",
    "            R += 50\n",
    "\n",
    "        elif a in q[j]['incorrecte']:\n",
    "\n",
    "            print(\"\\nmauvaise (-1)\\n\")\n",
    "\n",
    "            R -= 50\n",
    "\n",
    "    print(\"\\nResultat : \",R,\" / 100\")\n",
    "\n",
    "qs = [\n",
    "    {'question': \"Quelle est la couleur du cheval blanc d’Henry IV ?\",'correcte': \"blanc\",'incorrecte': [\"gris\",\"noir\",            \"orange\"]},\n",
    "    {'question': \"2 + 2 = ?\",\n",
    "    'correcte': \"4\",\n",
    "    'incorrecte': [\"42\",\"44\",\"0\"]}\n",
    "    ]\n",
    "\n",
    "question(qs)"
   ]
  },
  {
   "cell_type": "code",
   "execution_count": null,
   "metadata": {},
   "outputs": [],
   "source": [
    "from random import shuffle\n",
    "\n",
    "def Quiz(q):\n",
    "\n",
    "    shuffle(q)\n",
    "\n",
    "    for j in range(len(q)):\n",
    "\n",
    "        print(q[j]['question'],\"\\n\")\n",
    "\n",
    "        for i in range(len(qs)+1):\n",
    "\n",
    "            print(q[j]['incorrecte'][i],\"\\n\")\n",
    "\n",
    "        print(q[j]['correcte'])\n",
    "\n",
    "        a = str(input(\"\"))\n",
    "\n",
    "        if a in q[j]['correcte']:\n",
    "\n",
    "            print(\"\\nbravo\\n\")\n",
    "\n",
    "        elif a in q[j]['incorrecte']:\n",
    "\n",
    "            print(\"\\nmauvaise\\n\")\n",
    "\n",
    "qs = [\n",
    "    {'question': \"Quelle est la couleur du cheval blanc d’Henry IV ?\",'correcte': \"blanc\",'incorrecte': [\"gris\",\"noir\",            \"orange\"]},\n",
    "    {'question': \"2 + 2 = ?\",\n",
    "    'correcte': \"4\",\n",
    "    'incorrecte': [\"42\",\"44\",\"0\"]}\n",
    "    ]\n",
    "\n",
    "Quiz(qs)"
   ]
  },
  {
   "cell_type": "code",
   "execution_count": null,
   "metadata": {},
   "outputs": [],
   "source": [
    "#Exercice 5\n",
    "\n",
    "def AfficheMois(mois):\n",
    "\n",
    "    l = []\n",
    "\n",
    "    for i in Mois:\n",
    "\n",
    "        if i == mois:\n",
    "\n",
    "            for j in Temperatures:\n",
    "\n",
    "                l = l + [Temperatures[j][Mois.index(i)]]\n",
    "\n",
    "    return l\n",
    "    \n",
    "Temperatures = { 'France' : [ 6 , 5 , 8 ], 'Australie' : [ 35 , 30 ]}\n",
    "\n",
    "Mois = [ 'Janvier','février', 'Dcembre' ]\n",
    "\n",
    "AfficheMois('Janvier')"
   ]
  },
  {
   "cell_type": "code",
   "execution_count": null,
   "metadata": {},
   "outputs": [],
   "source": [
    "def AjoutPays(pays, temps):\n",
    "\n",
    "    Temperatures[pays] = temps\n",
    "\n",
    "    return Temperatures\n",
    "\n",
    "AjoutPays('Brazil',[50,12,10])\n",
    "    "
   ]
  },
  {
   "cell_type": "code",
   "execution_count": null,
   "metadata": {},
   "outputs": [],
   "source": [
    "def ModificationPaysMois(pays, mois, val):\n",
    "\n",
    "    Temperatures[pays][Mois.index(mois)] = val\n",
    "\n",
    "    return Temperatures\n",
    "\n",
    "ModificationPaysMois('France','Janvier',5) "
   ]
  },
  {
   "cell_type": "code",
   "execution_count": null,
   "metadata": {},
   "outputs": [],
   "source": [
    "def MoyennePays(pays):\n",
    "    \n",
    "    return sum(Temperatures[pays])//len(Temperatures[pays])\n",
    "\n",
    "MoyennePays('France')"
   ]
  },
  {
   "cell_type": "code",
   "execution_count": null,
   "metadata": {},
   "outputs": [],
   "source": [
    "def moyenneMois(mois):\n",
    "\n",
    "    return sum(AfficheMois(mois))//len(AfficheMois(mois))\n",
    "\n",
    "moyenneMois('Janvier')"
   ]
  },
  {
   "cell_type": "code",
   "execution_count": null,
   "metadata": {},
   "outputs": [],
   "source": [
    "def MoyenneMax():\n",
    "\n",
    "    return [[i,max(Temperatures[i])] for i in Temperatures]\n",
    "\n",
    "MoyenneMax()"
   ]
  }
 ]
}