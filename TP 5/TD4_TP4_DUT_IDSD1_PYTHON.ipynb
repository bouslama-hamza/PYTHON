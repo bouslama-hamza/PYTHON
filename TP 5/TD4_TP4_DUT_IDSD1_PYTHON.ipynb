{
 "cells": [
  {
   "source": [
    "**Exercice 1:**<br>\n",
    "1. Écrire une fonction **identiques()** qui permet de tester si deux fichiers sont identiques. Les noms sont saisis au clavier."
   ],
   "cell_type": "markdown",
   "metadata": {}
  },
  {
   "cell_type": "code",
   "execution_count": null,
   "metadata": {},
   "outputs": [],
   "source": [
    "def identiques(A1,A2):\n",
    "    \n",
    "    if A1.readlines() == A2.readlines():\n",
    "\n",
    "        print(\"TRUE\")\n",
    "\n",
    "    else :\n",
    "\n",
    "        print(\"FALSE\")\n",
    "\n",
    "F1 = open(\"F1.txt\",\"r\")\n",
    "\n",
    "F2 = open(\"F2.txt\",\"r\")\n",
    "\n",
    "identiques(F1,F2)\n",
    "\n",
    "F1.close()\n",
    "\n",
    "F2.close()"
   ]
  },
  {
   "cell_type": "markdown",
   "metadata": {},
   "source": [
    "2. Écrire une fonction **fusion_fichiers()** qui permet de fusionner deux fichiers dont les noms sont saisis au clavier."
   ]
  },
  {
   "cell_type": "code",
   "execution_count": null,
   "metadata": {},
   "outputs": [],
   "source": [
    "def fusion_fichiers(A1,A2):\n",
    "    \n",
    "    first = A1.readlines()\n",
    "\n",
    "    second = A2.readlines()\n",
    "\n",
    "    MIX =first+second \n",
    "\n",
    "    print(' '.join(MIX))\n",
    "\n",
    "F1 = open(\"F1.txt\",\"r\")\n",
    "\n",
    "F2 = open(\"F2.txt\",\"r\")\n",
    "\n",
    "fusion_fichiers(F1,F2)\n",
    "\n",
    "F1.close()\n",
    "\n",
    "F2.close()"
   ]
  },
  {
   "cell_type": "markdown",
   "metadata": {},
   "source": [
    "**Exercice 2: Matrice stockée dans un fichiers texte**<br>\n",
    "On suppose avoir crée un fichier texte contenant une matrice. Chaque ligne du fichier une ligne de la matrice, et les éléments de chaque ligne sont séparés par le caractère espace.<br>\n",
    "**Exemple :**\n",
    "<center>\n",
    "<img src='mat.jpg' width=50% height=50%/>\n",
    "</center>"
   ]
  },
  {
   "cell_type": "markdown",
   "metadata": {},
   "source": [
    "1. Écrire une fonction **RecupererMatrice(ch)** qui prend en paramètre une chaine de caractères **ch** qui contient le chemin absolu du fichier texte contenant une matrice et qui retourne la matrice sous forme de liste des listes."
   ]
  },
  {
   "cell_type": "code",
   "execution_count": null,
   "metadata": {},
   "outputs": [],
   "source": [
    "def RecupererMatrice(ch):\n",
    "\n",
    "    return [line.rstrip().split(' ') for line in ch]\n",
    "    \n",
    "    ch.close()\n",
    "    \n",
    "F1 = open(\"F1.txt\",\"r\")\n",
    "\n",
    "RecupererMatrice(F1)"
   ]
  },
  {
   "source": [
    "2. Écrire une fonction **TransposeMatrice(ch)** qui prend en paramètre une chaine de caractères **ch** qui contient le chemin absolu du fichier texte contenant une matrice. Cette calcule le transpose de la matrice et enregistre le résultat dans un fichier texte **'transposeM.txt'**."
   ],
   "cell_type": "markdown",
   "metadata": {}
  },
  {
   "cell_type": "code",
   "execution_count": null,
   "metadata": {},
   "outputs": [],
   "source": [
    "from pickle import*\n",
    "\n",
    "def TransposeMatrice():\n",
    "\n",
    "    F1 = open(\"F1.txt\",\"r\")\n",
    "\n",
    "    F1 = RecupererMatrice(F1)\n",
    "\n",
    "    F = [[0,0,0],[0,0,0],[0,0,0]]\n",
    "\n",
    "    for i in range(len(F1)):\n",
    "\n",
    "        for j in range(len(F1)):\n",
    "\n",
    "            F[j][i] = F1[i][j]\n",
    "\n",
    "    text = open(\"transposeM.txt\",\"wb\")\n",
    "\n",
    "    dump(F,text)\n",
    "\n",
    "    text.close()\n",
    "\n",
    "    return F    \n",
    "\n",
    "TransposeMatrice()"
   ]
  },
  {
   "cell_type": "markdown",
   "metadata": {},
   "source": [
    "**Exercice 3:** <br>\n",
    "Soit un fichier intitulé **'concours.dat'** qui comporte les enregistrements relatifs aux candidats d'un concours. Chaque enregistrement est composé de : **ncin, nom, prenom, age,notes, moyG, decision**<br>\n",
    "\n",
    "Le chaamps **note** se compose de trois notes et le champs **decision** prend les valeurs suivantes :\n",
    "- **admis** si Moy_gen>=12,\n",
    "- **refusé** si 6<= Moy_gen<12,\n",
    "- **ajourné** sinon."
   ]
  },
  {
   "source": [
    "1. Définir la fonction **saisir_un_etudiant()** qui permet de remplir les données relatives à un seul condidat sous forme d'un dictionnaire dans le fichier 'concours.dat'"
   ],
   "cell_type": "markdown",
   "metadata": {}
  },
  {
   "cell_type": "code",
   "execution_count": null,
   "metadata": {},
   "outputs": [],
   "source": [
    "from pickle import *\n",
    "\n",
    "def saisir_un_etudiant():\n",
    "\n",
    "    File = open(\"concours.dat\",\"wb\")\n",
    "\n",
    "    Etud = {}\n",
    "\n",
    "    Etud['ncin'] = str(input(\"donnez le numero de CIN : \"))\n",
    "\n",
    "    Etud['nom'] = str(input(\"donnez le nom : \"))\n",
    "\n",
    "    Etud['prenom'] = str(input(\"donnez le prenom : \"))\n",
    "\n",
    "    Etud['age'] = int(input(\"donnez l'age : \"))\n",
    "\n",
    "    Etud['notes'] = input(\"donnez les trois note : \").split()\n",
    "\n",
    "    a = Etud['notes']\n",
    "    \n",
    "    for i in range(len(a)):\n",
    "\n",
    "        a[i] = int(a[i])\n",
    "\n",
    "    Etud['moyG'] = sum(a) // 3\n",
    "\n",
    "    if Etud['moyG'] >= 12 : \n",
    "\n",
    "        Etud['decision'] = 'admis'\n",
    "\n",
    "    elif 6 <= Etud['moyG'] <= 12 :\n",
    "\n",
    "        Etud['decision'] = 'refusé'\n",
    "\n",
    "    else :\n",
    "\n",
    "        Etud['decision'] = 'ajourné'\n",
    "\n",
    "    dump(Etud,File)\n",
    "\n",
    "    File.close()\n",
    "\n",
    "saisir_un_etudiant()"
   ]
  },
  {
   "cell_type": "markdown",
   "metadata": {},
   "source": [
    "2. Ecrire une fonction **saisir(N)** qui permet de remplir les données relatives à N condidats dans le fichier 'concours.dat'"
   ]
  },
  {
   "cell_type": "code",
   "execution_count": null,
   "metadata": {},
   "outputs": [],
   "source": [
    "def saisir(N):\n",
    "\n",
    "    File = open(\"concours.dat\",\"ab\")\n",
    "\n",
    "    for i in range(N):\n",
    "\n",
    "        saisir_un_etudiant()\n",
    "\n",
    "    File.close()\n",
    "    \n",
    "a = int(input(\"donnez les nombre des etudiant : \"))\n",
    "\n",
    "saisir(a)"
   ]
  },
  {
   "cell_type": "markdown",
   "metadata": {},
   "source": [
    "3. Ecrire une fonction **recherche_par_decision(decision)** qui permet de retourner une liste contenant les condidats ayant la decision **decision** s'il existe dans le fichier **concours.dat**."
   ]
  },
  {
   "cell_type": "code",
   "execution_count": null,
   "metadata": {},
   "outputs": [],
   "source": [
    "def recherche_par_decision(decision):\n",
    "    \n",
    "    File = open(\"concours.dat\",\"rb\")\n",
    "\n",
    "    test = load(File)\n",
    "\n",
    "    if test['decision'] == decision:\n",
    "\n",
    "        print(test['prenom'],\"\",test['nom'])\n",
    "\n",
    "    File.close()\n",
    "\n",
    "recherche_par_decision('admis')"
   ]
  },
  {
   "cell_type": "markdown",
   "metadata": {},
   "source": [
    "4. Définir la fonction **admis()** qui permet créer le fichier **'admis.txt'** comportant les données (nom, prenom et moyG) relatives aux candidat admis mais classés par ordre de mérite"
   ]
  },
  {
   "cell_type": "code",
   "execution_count": null,
   "metadata": {},
   "outputs": [],
   "source": [
    "def admis():\n",
    "\n",
    "    File1 = open(\"concours.dat\",\"rb\")\n",
    "\n",
    "    File = load(File1)\n",
    "\n",
    "    File2 = open(\"admis.txt\", \"a\")\n",
    "\n",
    "    for i in File:\n",
    "\n",
    "        if File['decision'] == \"admis\":\n",
    "\n",
    "            File2.write(File['nom'])\n",
    "\n",
    "    File1.close()\n",
    "\n",
    "    File2.close()\n",
    "\n",
    "admis()"
   ]
  },
  {
   "cell_type": "markdown",
   "metadata": {},
   "source": [
    "5. Afin de sélectionner en priorité les **10 premiers candidats admis**, créer la fonction **attente()** qui produira à partir du fichier **admis.txt**, deux nouveaux fichierx intitulé **admis10.txt** et **attente.txt** comportant les données relatives aux candidats admis mais leurs classement dépasse 10."
   ]
  },
  {
   "cell_type": "code",
   "execution_count": null,
   "metadata": {},
   "outputs": [],
   "source": [
    "def attente():\n",
    "\n",
    "    fichier = open(\"admis.txt\")\n",
    "\n",
    "    dest = open(\"attente.txt\", \"a\")\n",
    "\n",
    "    for ligne in fichier:\n",
    "\n",
    "        L = ligne.split(\";\")\n",
    "\n",
    "        if int(L[3]) >= 30:\n",
    "\n",
    "            enreg = L[0]+\";\"+L[1]+\";\"+L[2]+\"\\n\"\n",
    "\n",
    "            dest.write(enreg)\n",
    "\n",
    "    fichier.close()\n",
    "\n",
    "    dest.close()\n",
    "\n",
    "attente()"
   ]
  }
 ],
 "metadata": {
  "kernelspec": {
   "name": "python385jvsc74a57bd0ed461e02ef1f7bb46b06c79ab007f3f5403ecb8ebb5164fd602d5df5f10ea717",
   "display_name": "Python 3.8.5 64-bit ('base': conda)"
  },
  "language_info": {
   "codemirror_mode": {
    "name": "ipython",
    "version": 3
   },
   "file_extension": ".py",
   "mimetype": "text/x-python",
   "name": "python",
   "nbconvert_exporter": "python",
   "pygments_lexer": "ipython3",
   "version": "3.8.5"
  }
 },
 "nbformat": 4,
 "nbformat_minor": 2
}