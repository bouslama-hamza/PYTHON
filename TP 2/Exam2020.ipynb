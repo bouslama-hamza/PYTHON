{
 "metadata": {
  "language_info": {
   "codemirror_mode": {
    "name": "ipython",
    "version": 3
   },
   "file_extension": ".py",
   "mimetype": "text/x-python",
   "name": "python",
   "nbconvert_exporter": "python",
   "pygments_lexer": "ipython3",
   "version": "3.8.5"
  },
  "orig_nbformat": 2,
  "kernelspec": {
   "name": "python385jvsc74a57bd0916dbcbb3f70747c44a77c7bcd40155683ae19c65e1c03b4aa3499c5328201f1",
   "display_name": "Python 3.8.5 64-bit"
  },
  "metadata": {
   "interpreter": {
    "hash": "916dbcbb3f70747c44a77c7bcd40155683ae19c65e1c03b4aa3499c5328201f1"
   }
  }
 },
 "nbformat": 4,
 "nbformat_minor": 2,
 "cells": [
  {
   "cell_type": "code",
   "execution_count": 1,
   "metadata": {},
   "outputs": [
    {
     "output_type": "execute_result",
     "data": {
      "text/plain": [
       "2"
      ]
     },
     "metadata": {},
     "execution_count": 1
    }
   ],
   "source": [
    "#Question 1 :\n",
    "\n",
    "def grands(L,x):\n",
    "\n",
    "    return sum([1 for i in range(len(L)) if L[i] > x])\n",
    "\n",
    "L=[25,12,6,17,3,10,20,12,15,38]\n",
    "\n",
    "grands(L,20)"
   ]
  },
  {
   "cell_type": "code",
   "execution_count": 3,
   "metadata": {},
   "outputs": [
    {
     "output_type": "execute_result",
     "data": {
      "text/plain": [
       "7"
      ]
     },
     "metadata": {},
     "execution_count": 3
    }
   ],
   "source": [
    "#Question 2 :\n",
    "\n",
    "def petits(L,x):\n",
    "\n",
    "    return sum([1 for i in range(len(L)) if L[i] < x])\n",
    "\n",
    "L=[25,12,6,17,3,10,20,12,15,38]\n",
    "\n",
    "petits(L,20)"
   ]
  },
  {
   "cell_type": "code",
   "execution_count": 4,
   "metadata": {},
   "outputs": [
    {
     "output_type": "execute_result",
     "data": {
      "text/plain": [
       "[12]"
      ]
     },
     "metadata": {},
     "execution_count": 4
    }
   ],
   "source": [
    "#Question 3 :\n",
    "\n",
    "def median(L):\n",
    "\n",
    "    return [L[i] for i in range(len(L)) if (grands(L,L[i]) <= len(L)//2) and (petits(L,L[i])<=len(L)//2)] \n",
    "L=[25,12,6,17,3,10,20,10,38]\n",
    "\n",
    "median(L)"
   ]
  },
  {
   "source": [
    "#Question 4 :\n",
    "\n",
    "     [0 1 0 0]\n",
    "R1 = [1 0 1 1]\n",
    "     [0 1 0 0]\n",
    "     [0 1 0 0]\n",
    "\n",
    "\n",
    "     [0 1 1 0]\n",
    "R2 = [1 0 1 0]\n",
    "     [1 1 0 0]\n",
    "     [0 0 0 0]"
   ],
   "cell_type": "code",
   "metadata": {},
   "execution_count": null,
   "outputs": []
  },
  {
   "source": [
    "#Question 5 :\n",
    "\n",
    "R = [[0, 1, 1, 1, 0, 0, 0, 0],\n",
    "     [1, 0, 1, 0, 1, 0, 0, 0],\n",
    "     [1, 1, 0, 1, 1, 0, 0, 0],\n",
    "     [1, 0, 1, 0, 1, 0, 1, 1],\n",
    "     [0, 1, 1, 1, 0, 1, 1, 0],\n",
    "     [0, 0, 0, 0, 1, 0, 1, 1],\n",
    "     [0, 0, 0, 1, 1, 1, 0, 1],\n",
    "     [0, 0, 0, 1, 0, 1, 1, 0]\n",
    "     ]\n",
    "\n",
    "R[3][1]   = 0\n",
    "\n",
    "R[1]      = [1, 0, 1, 0, 1, 0, 0, 0]\n",
    "\n",
    "len(R[2]) = 8\n",
    "\n",
    "len(R)    = 8"
   ],
   "cell_type": "code",
   "metadata": {},
   "execution_count": 8,
   "outputs": []
  },
  {
   "cell_type": "code",
   "execution_count": 9,
   "metadata": {},
   "outputs": [
    {
     "output_type": "execute_result",
     "data": {
      "text/plain": [
       "False"
      ]
     },
     "metadata": {},
     "execution_count": 9
    }
   ],
   "source": [
    "#Question 6 :\n",
    "\n",
    "def voisines(i,j,R):\n",
    "\n",
    "    res = False\n",
    "\n",
    "    if R[i][j] == 1 :\n",
    "\n",
    "        res = True\n",
    "        \n",
    "    return res\n",
    "\n",
    "voisines(3,5,R)"
   ]
  },
  {
   "cell_type": "code",
   "execution_count": 69,
   "metadata": {},
   "outputs": [
    {
     "output_type": "execute_result",
     "data": {
      "text/plain": [
       "[[1], [2], [3], [5], [6]]"
      ]
     },
     "metadata": {},
     "execution_count": 69
    }
   ],
   "source": [
    "#Question 7 :\n",
    "\n",
    "def list_voisines (i, R):\n",
    "\n",
    "    L = []\n",
    "\n",
    "    return [L + [j] for j in range(len(R[i])) if R[i][j] == 1]\n",
    "\n",
    "list_voisines (4, R)"
   ]
  },
  {
   "cell_type": "code",
   "execution_count": 11,
   "metadata": {},
   "outputs": [
    {
     "output_type": "execute_result",
     "data": {
      "text/plain": [
       "5"
      ]
     },
     "metadata": {},
     "execution_count": 11
    }
   ],
   "source": [
    "#Question 8 :\n",
    "\n",
    "def degre(i,R):\n",
    "\n",
    "    return len(list_voisines(i,R))\n",
    "\n",
    "degre (3, R)    "
   ]
  },
  {
   "cell_type": "code",
   "execution_count": 12,
   "metadata": {},
   "outputs": [
    {
     "output_type": "execute_result",
     "data": {
      "text/plain": [
       "[[0, 3], [1, 3], [2, 4], [3, 5], [4, 5], [5, 3], [6, 4], [7, 3]]"
      ]
     },
     "metadata": {},
     "execution_count": 12
    }
   ],
   "source": [
    "#Question 9 :\n",
    "\n",
    "def liste_degres(R):\n",
    "\n",
    "    L = []\n",
    "\n",
    "    return[L + [i,degre(i,R)] for i in range(len(R))]\n",
    "\n",
    "liste_degres(R)"
   ]
  },
  {
   "cell_type": "code",
   "execution_count": 29,
   "metadata": {},
   "outputs": [
    {
     "output_type": "execute_result",
     "data": {
      "text/plain": [
       "[(3, 5), (4, 5), (2, 4), (6, 4), (0, 3), (1, 3), (5, 3), (7, 3)]"
      ]
     },
     "metadata": {},
     "execution_count": 29
    }
   ],
   "source": [
    "#Question 10 :\n",
    "\n",
    "def tri_degres(D):\n",
    "    \n",
    "    res =[]\n",
    "\n",
    "    L = []\n",
    "\n",
    "    V = []\n",
    "\n",
    "    for elm in D:\n",
    "\n",
    "        res.append(elm[1])\n",
    "    \n",
    "    res = sorted(res,reverse = True)\n",
    "\n",
    "    for j in range(len(R)):\n",
    "\n",
    "        for i in range(len(R)):\n",
    "            \n",
    "            if degre(i,R) == res [j]:\n",
    "\n",
    "                L = L + [(i,res[j])]\n",
    "\n",
    "    for i in range(len(L)):\n",
    "\n",
    "        if L[i] not in V:\n",
    "\n",
    "            V = V + [L[i]]\n",
    "            \n",
    "    return V\n",
    "\n",
    "D = liste_degres(R)\n",
    "\n",
    "tri_degres(D)"
   ]
  },
  {
   "cell_type": "code",
   "execution_count": 53,
   "metadata": {},
   "outputs": [
    {
     "output_type": "execute_result",
     "data": {
      "text/plain": [
       "[[3], [4], [2], [6], [0], [1], [5], [7]]"
      ]
     },
     "metadata": {},
     "execution_count": 53
    }
   ],
   "source": [
    "#Question 11 :\n",
    "\n",
    "def tri_villes(D):\n",
    "\n",
    "    L = liste_degres(D)\n",
    "\n",
    "    L = tri_degres(L)\n",
    "\n",
    "    res = []\n",
    "\n",
    "    return [res + [elm[0]] for elm in L]\n",
    "\n",
    "tri_villes(R)"
   ]
  },
  {
   "cell_type": "code",
   "execution_count": 72,
   "metadata": {},
   "outputs": [
    {
     "output_type": "execute_result",
     "data": {
      "text/plain": [
       "True"
      ]
     },
     "metadata": {},
     "execution_count": 72
    }
   ],
   "source": [
    "#Question 12 :\n",
    "\n",
    "def chemin_valide(T, R):\n",
    "\n",
    "    for i in range(1, len(T)):\n",
    "      \n",
    "        if voisines(T[i-1], T[i], R) == False:\n",
    "\n",
    "            return False\n",
    " \n",
    "    return True\n",
    "    \n",
    "chemin_valide((2,0,1,4,3),R)"
   ]
  },
  {
   "cell_type": "code",
   "execution_count": 73,
   "metadata": {},
   "outputs": [],
   "source": [
    "#Question 13:\n",
    "\n",
    "def chemin_simple(T, R):\n",
    "\n",
    "    if chemin_valide(T, R) == False:\n",
    "\n",
    "        return False\n",
    "\n",
    "    D = [0]*len(R)\n",
    "\n",
    "    for i in range(len(T)):\n",
    "        \n",
    "        D[T[i]] += 1\n",
    "\n",
    "        if v[T[i]] > 1:\n",
    "\n",
    "            return False\n",
    "\n",
    "    return True\n",
    "\n",
    "chemin_simple(( 2, 0, 1, 4, 3 ),R)\n"
   ]
  }
 ]
}